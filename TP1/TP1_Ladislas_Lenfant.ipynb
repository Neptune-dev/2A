{
 "cells": [
  {
   "cell_type": "markdown",
   "metadata": {},
   "source": [
    "# TP n°1\n",
    "\n",
    "### Félix Ladislas & Maxime Lenfant\n",
    "\n",
    "Date de la séance : 14/09/2023\n",
    "\n",
    "___"
   ]
  },
  {
   "cell_type": "markdown",
   "metadata": {},
   "source": [
    "### Représenter les flottants\n",
    "\n",
    "Pour le système $ \\mathscr F (2,r,m,n) $."
   ]
  },
  {
   "cell_type": "markdown",
   "metadata": {},
   "source": [
    "- a) Le plus petit flottant strictement positif est :\n",
    "\n",
    "$$ + (0.1 \\space d_{-2} \\dots d_{-r})_2 \\times 2^m $$\n",
    "\n",
    "où pour $ k > 1 $, $d_{-k} = 0$.\n",
    "\n",
    "<br>\n",
    "\n",
    "- b) Le plus grand flottant est :\n",
    "\n",
    "$$ + (0.1 \\space d_{-2} \\dots d_{-r})_2 \\times 2^M $$\n",
    "\n",
    "où pour $ k > 1 $, $d_{-k} = 1$.\n",
    "\n",
    "<br>\n",
    "\n",
    "- c) Pour un $j$, l'équart est de $(0.000 \\dots 1)_2 \\times 2^{j}=2^{j-r}$.\n",
    "\n",
    "<br>\n",
    "\n",
    "- d) \n",
    "\n",
    "Soit $e$ l'écart entre le plus grand flottant d’exposant $j$ et le plus petit flottant d’exposant $j + 1$\n",
    "\n",
    "$$ \\begin{aligned}\n",
    "    e &= (0.100 \\dots 0)_2 \\times 2^{j+1} - (0.11 \\dots 1)_2 \\times 2^j \\\\\n",
    "    &= (1.000 \\dots 0)_2 \\times 2^j - (0.111 \\dots 1)_2 \\times 2^j \\\\\n",
    "    &= (0.000 \\dots 1)_2 \\times 2^j\n",
    "\\end{aligned} $$"
   ]
  },
  {
   "cell_type": "code",
   "execution_count": null,
   "metadata": {},
   "outputs": [],
   "source": [
    "import turtle as t\n",
    "from random import randint\n",
    "\n",
    "colors = [\"red\", \"green\", \"blue\", \"darkred\", \"aquamarine\", \"lime\"]\n",
    "\n",
    "def TracerDroite():\n",
    "    t.speed(0)\n",
    "    t.color(\"black\")\n",
    "    t.goto(0,0)\n",
    "    t.write(\"0\")\n",
    "    t.down()\n",
    "    t.bk(500)\n",
    "    t.fd(1000)\n",
    "    t.up()\n",
    "\n",
    "def TracerValeur(_n, _color, textBool):\n",
    "    t.speed(0)\n",
    "    t.goto(_n,0)\n",
    "    t.left(90)\n",
    "    t.color(_color)\n",
    "    t.down()\n",
    "    t.bk(50)\n",
    "    t.fd(100)\n",
    "    if (textBool == True and _n >= 1) : t.write(_n)\n",
    "    t.right(90)\n",
    "    t.up()\n"
   ]
  },
  {
   "cell_type": "code",
   "execution_count": null,
   "metadata": {},
   "outputs": [],
   "source": [
    "t.reset()\n",
    "\n",
    "r = 5\n",
    "m = -4\n",
    "M = 8\n",
    "\n",
    "TracerDroite()\n",
    "\n",
    "ao=0\n",
    "for j in range (m, M+1):\n",
    "    \n",
    "    color = colors[randint(0,len(colors)-1)]\n",
    "\n",
    "    # minimum pour j\n",
    "    petit = 2**(-1) * 2**j\n",
    "\n",
    "    # maximum pour j\n",
    "    grand = 0\n",
    "    \n",
    "    for k in range (0,r+1):\n",
    "        grand += 2**(-k)\n",
    "\n",
    "    grand = grand * 2**j\n",
    "\n",
    "    ecart=(grand+petit)/2**r\n",
    "    # ecart= 2**(j-r)\n",
    "\n",
    "    x=petit\n",
    "\n",
    "    TracerValeur(petit+ao, color, True)\n",
    "    TracerValeur(grand+ao, color, False)\n",
    "\n",
    "    TracerValeur(-(petit+ao), color, True)\n",
    "    TracerValeur(-(grand+ao), color, False)\n",
    "\n",
    "    while x<grand:\n",
    "        x += ecart\n",
    "        TracerValeur(x+ao, color, False)\n",
    "        TracerValeur(-(x+ao), color, False)\n",
    "    \n",
    "    ao=2**(j-r)\n"
   ]
  }
 ],
 "metadata": {
  "kernelspec": {
   "display_name": "Python 3",
   "language": "python",
   "name": "python3"
  },
  "language_info": {
   "codemirror_mode": {
    "name": "ipython",
    "version": 3
   },
   "file_extension": ".py",
   "mimetype": "text/x-python",
   "name": "python",
   "nbconvert_exporter": "python",
   "pygments_lexer": "ipython3",
   "version": "3.10.7"
  },
  "orig_nbformat": 4
 },
 "nbformat": 4,
 "nbformat_minor": 2
}
