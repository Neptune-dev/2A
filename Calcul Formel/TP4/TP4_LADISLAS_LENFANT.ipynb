{
 "cells": [
  {
   "cell_type": "markdown",
   "metadata": {},
   "source": [
    "# TP n°4\n",
    "\n",
    "### Félix Ladislas & Maxime Lenfant\n",
    "\n",
    "Date de la séance : 26/10/2023\n",
    "\n",
    "___"
   ]
  },
  {
   "cell_type": "code",
   "execution_count": 267,
   "metadata": {},
   "outputs": [],
   "source": [
    "from math import exp, log, sqrt, sin, asin"
   ]
  },
  {
   "cell_type": "markdown",
   "metadata": {},
   "source": [
    "# Dichotomie"
   ]
  },
  {
   "cell_type": "code",
   "execution_count": 268,
   "metadata": {},
   "outputs": [],
   "source": [
    "def f1(x):\n",
    "    return (exp(x) - 9*x - 15)\n",
    "\n",
    "def f2(x):\n",
    "    return (exp(x) - 15*(x**2))"
   ]
  },
  {
   "cell_type": "markdown",
   "metadata": {},
   "source": [
    "Préliminaires :\n",
    "* calcul de la dérivée\n",
    "* tableau de variation de la fonction\n",
    "* determination du nombre de solution et donc d'intervalles à étudier "
   ]
  },
  {
   "cell_type": "code",
   "execution_count": 269,
   "metadata": {},
   "outputs": [],
   "source": [
    "def dicho(f, a, b, eps):\n",
    "    if ((f(a) < 0 and f(b) < 0 ) or (f(a) > 0 and f(b) > 0 )):\n",
    "        print(\"ERREUR : f(a) et f(b) sont de même signe.\")\n",
    "        return\n",
    "    \n",
    "    m = (a+b)/2\n",
    "    i = 0\n",
    "    while (b-a)/2 > eps:\n",
    "        i += 1\n",
    "        m = (a+b)/2\n",
    "        if ((f(m) < 0 and f(a) < 0 ) or (f(m) > 0 and f(a) > 0 )):\n",
    "            a = m\n",
    "        else:\n",
    "            b = m\n",
    "    return ((a+b)/2, i)\n"
   ]
  },
  {
   "cell_type": "code",
   "execution_count": 270,
   "metadata": {},
   "outputs": [
    {
     "name": "stdout",
     "output_type": "stream",
     "text": [
      "f1 :\n",
      "(-1.645225703716278, 24)\n",
      "(3.9170855581760406, 24)\n",
      "\n",
      "f2 :\n",
      "(-0.23013430833816528, 23)\n",
      "(0.2999815344810486, 23)\n",
      "(6.429998934268951, 23)\n"
     ]
    }
   ],
   "source": [
    "EPS = 10**(-7)\n",
    "\n",
    "print('f1 :')\n",
    "print(dicho(f1, -3, -1, EPS))\n",
    "print(dicho(f1, 2, 5, EPS))\n",
    "\n",
    "print('\\nf2 :')\n",
    "print(dicho(f2, -1, 0, EPS))\n",
    "print(dicho(f2, 0, 1, EPS))\n",
    "print(dicho(f2, 6, 7, EPS))"
   ]
  },
  {
   "cell_type": "markdown",
   "metadata": {},
   "source": [
    "___\n",
    "\n",
    "# Point fixe"
   ]
  },
  {
   "cell_type": "markdown",
   "metadata": {},
   "source": [
    "Préliminaire :\n",
    "* trouver g(x)"
   ]
  },
  {
   "cell_type": "code",
   "execution_count": 271,
   "metadata": {},
   "outputs": [],
   "source": [
    "def g1(x):\n",
    "    return (exp(x) - 8*x - 15)\n",
    "\n",
    "def g2(x):\n",
    "    return ((exp(x)-15)/9)\n",
    "\n",
    "def g3(x):\n",
    "    return (log(9*x + 15))"
   ]
  },
  {
   "cell_type": "code",
   "execution_count": 272,
   "metadata": {},
   "outputs": [],
   "source": [
    "def pfixe(g, x0, eps, iterationMax):\n",
    "    i = 0\n",
    "    while abs(x0 - g(x0)) > eps:\n",
    "        i += 1\n",
    "        x0 = g(x0)\n",
    "        if (i > iterationMax):\n",
    "            print('Itération maximum atteinte.')\n",
    "            return\n",
    "    return (x0,i)\n",
    "    "
   ]
  },
  {
   "cell_type": "code",
   "execution_count": 273,
   "metadata": {},
   "outputs": [
    {
     "name": "stdout",
     "output_type": "stream",
     "text": [
      "f1 :\n",
      "g2 : (-1.645225645547389, 5)\n",
      "g3 : (3.9170855244133427, 11)\n"
     ]
    }
   ],
   "source": [
    "ITMAX = 100\n",
    "\n",
    "print('f1 :')\n",
    "# print(pfixe(g1, 0, EPS, ITMAX))    # ERREUR : pas viable car croissance trop rapide\n",
    "print(f'g2 : {pfixe(g2, 0, EPS, ITMAX)}')\n",
    "print(f'g3 : {pfixe(g3, 0, EPS, ITMAX)}')"
   ]
  },
  {
   "cell_type": "code",
   "execution_count": 274,
   "metadata": {},
   "outputs": [],
   "source": [
    "def g4(x):\n",
    "    return (exp(x) - 15*(x**2) + x)\n",
    "\n",
    "def g5(x):\n",
    "    return (2 * log(x) + log(15))\n",
    "\n",
    "def g6(x):\n",
    "    return(sqrt(exp(x)/15))"
   ]
  },
  {
   "cell_type": "code",
   "execution_count": 275,
   "metadata": {},
   "outputs": [
    {
     "name": "stdout",
     "output_type": "stream",
     "text": [
      "f2 :\n",
      "g5 : (6.429998897913071, 17)\n",
      "g6 : (0.2999815766053972, 9)\n"
     ]
    }
   ],
   "source": [
    "print('f2 :')\n",
    "\n",
    "# print(f'g4 : {pfixe(g4, 1, EPS, ITMAX)}') # ERREUR\n",
    "print(f'g5 : {pfixe(g5, 1, EPS, ITMAX)}')\n",
    "print(f'g6 : {pfixe(g6, 1, EPS, ITMAX)}')"
   ]
  },
  {
   "cell_type": "markdown",
   "metadata": {},
   "source": [
    "___\n",
    "\n",
    "# Application"
   ]
  },
  {
   "cell_type": "code",
   "execution_count": 276,
   "metadata": {},
   "outputs": [],
   "source": [
    "def gh1(x):\n",
    "    return(x*(sin(1/x)+1+1) /1000)\n",
    "\n",
    "def gh2(x):\n",
    "    return((-1) / (1000 * sin(1/x)))\n",
    "\n",
    "def gh3(x):\n",
    "    return(1/asin(-1/(1000*x)))"
   ]
  },
  {
   "cell_type": "code",
   "execution_count": 277,
   "metadata": {},
   "outputs": [
    {
     "name": "stdout",
     "output_type": "stream",
     "text": [
      "h :\n",
      "gh1 : (1.686642744012436e-08, 3)\n",
      "Itération maximum atteinte.\n",
      "gh2 : None\n",
      "Itération maximum atteinte.\n",
      "gh3 : None\n"
     ]
    }
   ],
   "source": [
    "print('h :')\n",
    "\n",
    "print(f'gh1 : {pfixe(gh1, 1, EPS, ITMAX)}')\n",
    "print(f'gh2 : {pfixe(gh2, 1, EPS, ITMAX)}')\n",
    "print(f'gh3 : {pfixe(gh3, 1, EPS, ITMAX)}')"
   ]
  }
 ],
 "metadata": {
  "kernelspec": {
   "display_name": "Python 3",
   "language": "python",
   "name": "python3"
  },
  "language_info": {
   "codemirror_mode": {
    "name": "ipython",
    "version": 3
   },
   "file_extension": ".py",
   "mimetype": "text/x-python",
   "name": "python",
   "nbconvert_exporter": "python",
   "pygments_lexer": "ipython3",
   "version": "3.10.7"
  }
 },
 "nbformat": 4,
 "nbformat_minor": 2
}
