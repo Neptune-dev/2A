{
 "cells": [
  {
   "cell_type": "markdown",
   "metadata": {},
   "source": [
    "## TP n° x\n",
    "### (Vos noms et prénoms)\n",
    "<br>\n",
    "Date de la séance :  "
   ]
  },
  {
   "cell_type": "markdown",
   "metadata": {},
   "source": [
    "> Double-cliquez dans une cellule de texte pour voir comment ce texte est codé en `markdown`. Pour voir à nouveau l'effet produit, validez (exécutez) la cellule, en cliquant sur le bouton \"Run\" ou avec MAJ+<entrée>"
   ]
  },
  {
   "cell_type": "markdown",
   "metadata": {},
   "source": [
    "____________________________________________________________________________\n",
    "Question 1"
   ]
  },
  {
   "cell_type": "code",
   "execution_count": 1,
   "metadata": {},
   "outputs": [],
   "source": [
    "# (votre code Python)"
   ]
  },
  {
   "cell_type": "markdown",
   "metadata": {},
   "source": [
    "Quelques exemples au format ` markdown`  :\n",
    "* de style typographique : *italiques*,  **gras**\n",
    "<br>\n",
    "* de notations mathématiques : mise en indice $u_{n+1}=2u_n+1$, en exposant $x^{n+1}=x^n \\times x$, fraction $\\frac{a+b}{\\pi}$ ou un peu plus soigné $\\dfrac{a+b}{\\pi}$.\n",
    "<br>\n",
    "* et une formule centrée : $$ \\forall n\\in \\mathbb{N}, \\exists x\\in \\mathbb{R} \\ |\\quad \\sqrt{x^n} \\leq 1\\qquad(*)$$"
   ]
  },
  {
   "cell_type": "markdown",
   "metadata": {},
   "source": [
    "Exemple de matrice :\n",
    "\n",
    "$$A=\\left(\\begin{array}{ccc}\n",
    "         1 & 2 & 3\\\\\n",
    "         4 & 5 & 6\n",
    "         \\end{array}\\right)$$"
   ]
  },
  {
   "cell_type": "markdown",
   "metadata": {},
   "source": [
    "\n"
   ]
  },
  {
   "cell_type": "markdown",
   "metadata": {},
   "source": [
    "Symboles divers : <br>\n",
    "La fonction $f : \\mathbb{R} = ]-\\infty,+\\infty[ \\longrightarrow \\mathbb{R},\\ x \\longmapsto x^2 \\quad $ vérifie $ \\quad f(x) = 4 \\Leftrightarrow x = \\pm\\, 2$. <br>\n",
    "Et $\\qquad \\pi \\simeq 3,1415926536$."
   ]
  },
  {
   "cell_type": "markdown",
   "metadata": {},
   "source": [
    "## Pensez à enlever les exemples ci-dessus avant de déposer, ils ne font pas partie de votre compte rendu..."
   ]
  },
  {
   "cell_type": "code",
   "execution_count": null,
   "metadata": {},
   "outputs": [],
   "source": []
  }
 ],
 "metadata": {
  "kernelspec": {
   "display_name": "Python 3",
   "language": "python",
   "name": "python3"
  },
  "language_info": {
   "codemirror_mode": {
    "name": "ipython",
    "version": 3
   },
   "file_extension": ".py",
   "mimetype": "text/x-python",
   "name": "python",
   "nbconvert_exporter": "python",
   "pygments_lexer": "ipython3",
   "version": "3.7.0"
  }
 },
 "nbformat": 4,
 "nbformat_minor": 2
}
