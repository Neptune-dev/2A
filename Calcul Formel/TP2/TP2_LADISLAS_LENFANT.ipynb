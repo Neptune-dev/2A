{
 "cells": [
  {
   "cell_type": "markdown",
   "metadata": {},
   "source": [
    "# TP n°2\n",
    "\n",
    "### Félix Ladislas & Maxime Lenfant\n",
    "\n",
    "Date de la séance : 28/09/2023\n",
    "\n",
    "___"
   ]
  },
  {
   "cell_type": "code",
   "execution_count": 310,
   "metadata": {},
   "outputs": [],
   "source": [
    "import numpy as np"
   ]
  },
  {
   "cell_type": "markdown",
   "metadata": {},
   "source": [
    "___\n",
    "## Préliminaires"
   ]
  },
  {
   "cell_type": "code",
   "execution_count": 311,
   "metadata": {},
   "outputs": [
    {
     "name": "stdout",
     "output_type": "stream",
     "text": [
      "[1 0 3 4]\n"
     ]
    }
   ],
   "source": [
    "L1 = np.array([1,2,3,4]) ; L2 = L1\n",
    "L1[1] = 0 ; print(L2)"
   ]
  },
  {
   "cell_type": "markdown",
   "metadata": {},
   "source": [
    "On crée un tableau *L1*, puis on déclare un second tableau *L2* égal au premier. Pour finir, on change la deuxième valeur de *L1* et on affiche *L2*. On remarque que le changement est aussi effectif sur le second tableau *L2*."
   ]
  },
  {
   "cell_type": "code",
   "execution_count": 312,
   "metadata": {},
   "outputs": [
    {
     "name": "stdout",
     "output_type": "stream",
     "text": [
      "[[0, 0, 0, 0], [0, 0, 0, 0], [0, 0, 0, 0], [0, 0, 0, 0]]\n",
      "[[0, 0, 5, 0], [0, 0, 5, 0], [0, 0, 5, 0], [0, 0, 5, 0]]\n"
     ]
    }
   ],
   "source": [
    "M1 = [[0]*4]*4 ; print(M1)\n",
    "M1[1][2] = 5 ; print(M1)"
   ]
  },
  {
   "cell_type": "markdown",
   "metadata": {},
   "source": [
    "On remarque que quelque soit la valeur dans le premier chrochet de la seconde ligne, chaque élément du tableau *M1* change de manière identique."
   ]
  },
  {
   "cell_type": "code",
   "execution_count": 313,
   "metadata": {},
   "outputs": [
    {
     "name": "stdout",
     "output_type": "stream",
     "text": [
      "[[0 0 0 0]\n",
      " [0 0 5 0]\n",
      " [0 0 0 0]\n",
      " [0 0 0 0]]\n"
     ]
    }
   ],
   "source": [
    "M1 = np.array([[0]*4]*4)\n",
    "M1[1][2] = 5 ; print(M1)"
   ]
  },
  {
   "cell_type": "markdown",
   "metadata": {},
   "source": [
    "Ici, grâce à la déclarationi et initialisation par *numpy*, le changement se fait bien dans un seul élément de *M1*."
   ]
  },
  {
   "cell_type": "code",
   "execution_count": 314,
   "metadata": {},
   "outputs": [
    {
     "data": {
      "text/plain": [
       "array([[ 1,  2,  3],\n",
       "       [ 1, -2,  9],\n",
       "       [ 1,  8, 27]])"
      ]
     },
     "execution_count": 314,
     "metadata": {},
     "output_type": "execute_result"
    }
   ],
   "source": [
    "A = np.array([[1,2,3],[1,4,9],[1,8,27]])\n",
    "AA = A ; AA[1,1] = -2 ; A"
   ]
  },
  {
   "cell_type": "markdown",
   "metadata": {},
   "source": [
    "De manière similaire à la première question, le changement effectué sur le tableau *AA* s'effectue aussi sur le tableau *A* dont il est l'origine."
   ]
  },
  {
   "cell_type": "code",
   "execution_count": 315,
   "metadata": {},
   "outputs": [
    {
     "data": {
      "text/plain": [
       "array([[ 1,  2,  3],\n",
       "       [ 1,  4,  9],\n",
       "       [ 1,  8, 27]])"
      ]
     },
     "execution_count": 315,
     "metadata": {},
     "output_type": "execute_result"
    }
   ],
   "source": [
    "A = np.array([[1,2,3],[1,4,9],[1,8,27]])\n",
    "AA = A.copy() ; AA[1,1] = -2 ; A"
   ]
  },
  {
   "cell_type": "markdown",
   "metadata": {},
   "source": [
    "Ici, la fonction *copy()* permet de copier un tableau. Un changement sur l'un n'affecte plus l'autre."
   ]
  },
  {
   "cell_type": "markdown",
   "metadata": {},
   "source": [
    "___"
   ]
  },
  {
   "cell_type": "markdown",
   "metadata": {},
   "source": [
    "# Algorithme"
   ]
  },
  {
   "cell_type": "code",
   "execution_count": 317,
   "metadata": {},
   "outputs": [
    {
     "name": "stdout",
     "output_type": "stream",
     "text": [
      "[[ 0  2  3  5]\n",
      " [ 1  0  9 15]\n",
      " [ 1  8 27 47]]\n",
      "\n",
      " [[ 0  2  3  5]\n",
      " [ 0  2  3  5]\n",
      " [ 1  8 27 47]]\n",
      "\n",
      " [[ 0  2  3  5]\n",
      " [ 0  2  3  5]\n",
      " [ 1  8 27 47]]\n",
      "None\n"
     ]
    }
   ],
   "source": [
    "def SousLigne(M:list,L1:int,L2:int, f:int):\n",
    "    # Soustrait la ligne L1 à la ligne L2 de la matrice M :\n",
    "    # (L2 = L2 - f * L1)\n",
    "\n",
    "    for i in range (0,len(M[L2])):\n",
    "        M[L2][i] = M[L2][i] - (f * M[L1][i])\n",
    "\n",
    "def MatriceAugmente(A:list, B:list)->list:\n",
    "    # retourne la matrice augmentée A|B\n",
    "\n",
    "    C = np.zeros([len(A), len(A[0]) + len(B[0])], int)\n",
    "    \n",
    "    for i in range (0, len(A)):\n",
    "        for j in range (0, len(C[0])):\n",
    "            if (j < len(A[0])):\n",
    "                C[i][j] = A[i][j]\n",
    "            else:\n",
    "                C[i][j] = B[i][j - len(A[0])]\n",
    "\n",
    "    return C\n",
    "\n",
    "def Pivot(A:list,B:list) -> list:\n",
    "    \"\"\"\n",
    "    Echelonne et donne les solutions du système\n",
    "    \"\"\"\n",
    "    M = MatriceAugmente(A,B)\n",
    "    print(M)\n",
    "    for i in range(len(M)-1) :\n",
    "        if M[i][i] == 0 :\n",
    "            for j in range(i,len(M)-1) :\n",
    "                if M[j][i] !=0 :\n",
    "                    M[j], M[i] = M[i], M[j]\n",
    "\n",
    "        print(\"\\n\",M)\n",
    "\n",
    "\n",
    "A = np.array([\n",
    "    [0,2,3],\n",
    "    [1,0,9],\n",
    "    [1,8,27]])\n",
    "\n",
    "B = np.array([\n",
    "    [5],\n",
    "    [15],\n",
    "    [47]])\n",
    "\n",
    "print(Pivot(A, B))\n"
   ]
  }
 ],
 "metadata": {
  "kernelspec": {
   "display_name": "Python 3",
   "language": "python",
   "name": "python3"
  },
  "language_info": {
   "codemirror_mode": {
    "name": "ipython",
    "version": 3
   },
   "file_extension": ".py",
   "mimetype": "text/x-python",
   "name": "python",
   "nbconvert_exporter": "python",
   "pygments_lexer": "ipython3",
   "version": "3.10.7"
  },
  "orig_nbformat": 4
 },
 "nbformat": 4,
 "nbformat_minor": 2
}
